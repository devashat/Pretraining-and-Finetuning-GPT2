{
 "cells": [
  {
   "cell_type": "code",
   "execution_count": 3,
   "id": "ffd8a564-ffdf-4025-a882-d422dc5ecac0",
   "metadata": {},
   "outputs": [],
   "source": [
    "import pandas as pd\n",
    "import numpy as np\n",
    "from transformers import pipeline, GPT2Tokenizer, GPT2Config, GPT2ForSequenceClassification"
   ]
  },
  {
   "cell_type": "code",
   "execution_count": 4,
   "id": "7dc3deda-638d-4282-b7e5-1ac15582bf8e",
   "metadata": {},
   "outputs": [],
   "source": [
    "train_data_path = 'train.csv'\n",
    "train_data = pd.read_csv(train_data_path)\n",
    "\n",
    "test_data_path = 'test.csv'\n",
    "test_data = pd.read_csv(test_data_path)\n",
    "\n",
    "\n",
    "train_data.drop('IOB Slot tags', axis=1)\n",
    "\n",
    "\n",
    "train_data = train_data.dropna(subset=['Core Relations'])\n",
    "train_data['Core Relations'].fillna('none', inplace=True)\n",
    "train_data['Core Relations'] = train_data['Core Relations'].astype(str)\n",
    "train_data.reset_index(drop=True, inplace=True)\n",
    "\n",
    "\n",
    "unique_core_relations = set()\n",
    "for relations in train_data['Core Relations']:\n",
    "    unique_core_relations.update(relations.split())\n",
    "\n",
    "unique_core_relations = sorted(list(unique_core_relations))"
   ]
  },
  {
   "cell_type": "code",
   "execution_count": 5,
   "id": "e84a1630-9a85-43a7-86fe-2f4ae2ef77ee",
   "metadata": {},
   "outputs": [
    {
     "name": "stderr",
     "output_type": "stream",
     "text": [
      "/home/detrived/miniconda3/envs/244_2/lib/python3.11/site-packages/transformers/pipelines/text_classification.py:105: UserWarning: `return_all_scores` is now deprecated,  if want a similar functionality use `top_k=None` instead of `return_all_scores=True` or `top_k=1` instead of `return_all_scores=False`.\n",
      "  warnings.warn(\n"
     ]
    },
    {
     "data": {
      "text/plain": [
       "'predictions.csv'"
      ]
     },
     "execution_count": 5,
     "metadata": {},
     "output_type": "execute_result"
    }
   ],
   "source": [
    "test_texts = test_data['utterances'].tolist()\n",
    "\n",
    "tokenizer = GPT2Tokenizer.from_pretrained('gpt2')\n",
    "tokenizer.pad_token = tokenizer.eos_token\n",
    "\n",
    "config = GPT2Config.from_pretrained('devashat/244-finetuned', num_labels=18)\n",
    "model = GPT2ForSequenceClassification.from_pretrained('devashat/244-finetuned', config=config)\n",
    "model.config.pad_token_id = tokenizer.eos_token_id\n",
    "\n",
    "\n",
    "classifier = pipeline(\"text-classification\", model=model, tokenizer=tokenizer, device=0, return_all_scores=True)\n",
    "\n",
    "predictions = classifier(test_texts)\n",
    "\n",
    "threshold = 0.5\n",
    "\n",
    "predicted_labels = []\n",
    "for prediction in predictions:\n",
    "    # Convert LABEL_X to actual label using unique_core_relations\n",
    "    labels = [unique_core_relations[int(pred['label'].split('_')[-1])] for pred in prediction if pred['score'] > threshold]\n",
    "    predicted_labels.append(labels)\n",
    "\n",
    "predicted_labels_joined = [\", \".join(labels) for labels in predicted_labels]\n",
    "\n",
    "predictions_df = pd.DataFrame({\n",
    "    \"utterances\": test_texts,\n",
    "    \"Core Relations\": predicted_labels_joined\n",
    "})\n",
    "\n",
    "predictions_csv_path = 'predictions.csv'\n",
    "predictions_df.to_csv(predictions_csv_path, index=False)\n",
    "\n",
    "predictions_csv_path\n"
   ]
  },
  {
   "cell_type": "code",
   "execution_count": null,
   "id": "2a7cbe34-bf65-4de3-ba83-295e92a692fa",
   "metadata": {},
   "outputs": [],
   "source": []
  }
 ],
 "metadata": {
  "kernelspec": {
   "display_name": "Python 3 (ipykernel)",
   "language": "python",
   "name": "python3"
  },
  "language_info": {
   "codemirror_mode": {
    "name": "ipython",
    "version": 3
   },
   "file_extension": ".py",
   "mimetype": "text/x-python",
   "name": "python",
   "nbconvert_exporter": "python",
   "pygments_lexer": "ipython3",
   "version": "3.11.7"
  }
 },
 "nbformat": 4,
 "nbformat_minor": 5
}
